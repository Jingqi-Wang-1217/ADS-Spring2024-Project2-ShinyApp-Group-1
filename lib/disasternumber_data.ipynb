{
  "nbformat": 4,
  "nbformat_minor": 0,
  "metadata": {
    "colab": {
      "provenance": []
    },
    "kernelspec": {
      "name": "python3",
      "display_name": "Python 3"
    },
    "language_info": {
      "name": "python"
    }
  },
  "cells": [
    {
      "cell_type": "code",
      "execution_count": 1,
      "metadata": {
        "colab": {
          "base_uri": "https://localhost:8080/"
        },
        "id": "K_dVwB_Dd-eq",
        "outputId": "9f931790-c7d9-44b7-d712-56bcc2274c06"
      },
      "outputs": [
        {
          "output_type": "stream",
          "name": "stdout",
          "text": [
            "     state  fyDeclared  disasterNumber\n",
            "0       AK        1954               1\n",
            "1       AK        1955               1\n",
            "2       AK        1956               1\n",
            "3       AK        1964               1\n",
            "4       AK        1967               1\n",
            "...    ...         ...             ...\n",
            "2112    WY        2016               3\n",
            "2113    WY        2017               2\n",
            "2114    WY        2018               2\n",
            "2115    WY        2020               4\n",
            "2116    WY        2023               1\n",
            "\n",
            "[2117 rows x 3 columns]\n"
          ]
        }
      ],
      "source": [
        "import pandas as pd\n",
        "\n",
        "df=pd.read_csv(\"DisasterDeclarationsSummaries.csv\")\n",
        "df=df[[ \"disasterNumber\",\"state\",\"fyDeclared\"]].drop_duplicates()\n",
        "group_df=df.groupby([\"state\", \"fyDeclared\"]).count().reset_index()\n",
        "print(group_df)\n",
        "\n",
        "group_df.to_csv(\"disasternumber.csv\")\n"
      ]
    }
  ]
}